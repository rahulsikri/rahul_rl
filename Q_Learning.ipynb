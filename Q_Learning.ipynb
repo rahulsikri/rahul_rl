{
  "cells": [
    {
      "cell_type": "markdown",
      "metadata": {
        "id": "view-in-github",
        "colab_type": "text"
      },
      "source": [
        "<a href=\"https://colab.research.google.com/github/rahulsikri/rahul_rl/blob/main/Q_Learning.ipynb\" target=\"_parent\"><img src=\"https://colab.research.google.com/assets/colab-badge.svg\" alt=\"Open In Colab\"/></a>"
      ]
    },
    {
      "cell_type": "code",
      "execution_count": null,
      "metadata": {
        "id": "8SOTblfjU5WS",
        "outputId": "9fc8820f-6abc-46e7-ad2c-b40f3689c845",
        "colab": {
          "base_uri": "https://localhost:8080/"
        }
      },
      "outputs": [
        {
          "output_type": "stream",
          "name": "stdout",
          "text": [
            "[[  0   0   0   0  80   0]\n",
            " [  0   0   0  64   0 100]\n",
            " [  0   0   0  64   0   0]\n",
            " [  0  80  51   0  80   0]\n",
            " [ 64   0   0  64   0 100]\n",
            " [  0   0   0   0   0   0]]\n"
          ]
        }
      ],
      "source": [
        "import numpy as np\n",
        "\n",
        "# Define the environment\n",
        "env = np.array([\n",
        "    [-1, -1, -1, -1, 0, -1],\n",
        "    [-1, -1, -1, 0, -1, 100],\n",
        "    [-1, -1, -1, 0, -1, -1],\n",
        "    [-1, 0, 0, -1, 0, -1],\n",
        "    [0, -1, -1, 0, -1, 100],\n",
        "    [-1, 0, -1, -1, 0, 100]\n",
        "])\n",
        "\n",
        "# Define the Q matrix\n",
        "Q = np.zeros_like(env)\n",
        "\n",
        "# Define the hyperparameters\n",
        "alpha = 1\n",
        "gamma = 0.8\n",
        "num_episodes = 1000\n",
        "\n",
        "# Run the Q-Learning algorithm\n",
        "for episode in range(num_episodes):\n",
        "    state = np.random.randint(0, env.shape[0])\n",
        "    while state != 5:\n",
        "        action = np.random.choice(np.where(env[state] != -1)[0])\n",
        "        next_state = action\n",
        "        reward = env[state, action]\n",
        "        Q[state, action] = (1 - alpha) * Q[state, action] + alpha * (reward + gamma * np.max(Q[next_state]))\n",
        "        state = next_state\n",
        "\n",
        "# Print the learned Q matrix\n",
        "print(Q)"
      ]
    },
    {
      "cell_type": "code",
      "execution_count": null,
      "metadata": {
        "id": "PPbvhT8pU5WX"
      },
      "outputs": [],
      "source": []
    }
  ],
  "metadata": {
    "kernelspec": {
      "display_name": "Python 3",
      "language": "python",
      "name": "python3"
    },
    "language_info": {
      "codemirror_mode": {
        "name": "ipython",
        "version": 3
      },
      "file_extension": ".py",
      "mimetype": "text/x-python",
      "name": "python",
      "nbconvert_exporter": "python",
      "pygments_lexer": "ipython3",
      "version": "3.9.6"
    },
    "colab": {
      "provenance": [],
      "include_colab_link": true
    }
  },
  "nbformat": 4,
  "nbformat_minor": 0
}