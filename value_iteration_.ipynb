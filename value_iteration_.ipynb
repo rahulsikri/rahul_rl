{
  "cells": [
    {
      "cell_type": "markdown",
      "metadata": {
        "id": "view-in-github",
        "colab_type": "text"
      },
      "source": [
        "<a href=\"https://colab.research.google.com/github/rahulsikri/rahul_rl/blob/main/value_iteration_.ipynb\" target=\"_parent\"><img src=\"https://colab.research.google.com/assets/colab-badge.svg\" alt=\"Open In Colab\"/></a>"
      ]
    },
    {
      "cell_type": "code",
      "execution_count": null,
      "id": "b6315d8c",
      "metadata": {
        "colab": {
          "base_uri": "https://localhost:8080/"
        },
        "id": "b6315d8c",
        "outputId": "ea4384f8-1d13-4030-f39e-9d957ba4cad4"
      },
      "outputs": [
        {
          "output_type": "stream",
          "name": "stdout",
          "text": [
            "Final Value Function:\n",
            "[[  0.   3.  -3.   3.]\n",
            " [  3.   0.   3.   0.]\n",
            " [  0.  -3.   0.   0.]\n",
            " [100.   0.  -3.   3.]]\n"
          ]
        }
      ],
      "source": [
        "import numpy as np\n",
        "\n",
        "# Define the gridworld environment and MDP parameters\n",
        "# 'S' represents the start state, 'G' represents the goal state, 'X' represents a blocked state.\n",
        "# 'P' represents a terminal state with a positive reward, 'N' represents a terminal state with a negative reward.\n",
        "# 'action_prob' defines the probability of taking each action, e.g., 0.25 for each of the four actions.\n",
        "# 'gamma' is the discount factor.\n",
        "\n",
        "grid = [\n",
        "    ['S', 'P', 'N', 'P'],\n",
        "    ['P', 'X', 'P', 'X'],\n",
        "    ['X', 'N', 'X', 'X'],\n",
        "    ['G', 'X', 'N', 'P']\n",
        "]\n",
        "\n",
        "actions = ['up', 'down', 'left', 'right']\n",
        "action_prob = [0.25, 0.25, 0.25, 0.25]\n",
        "gamma = 0.9\n",
        "\n",
        "# Initialize the value function for each state to 0\n",
        "num_rows = len(grid)\n",
        "num_cols = len(grid[0])\n",
        "values = np.zeros((num_rows, num_cols))\n",
        "\n",
        "# Define a function to calculate the value of a state\n",
        "def calculate_state_value(row, col):\n",
        "    if grid[row][col] == 'P':\n",
        "        return 3.0\n",
        "    elif grid[row][col] == 'N':\n",
        "        return -3.0\n",
        "    elif grid[row][col] == 'G':\n",
        "        return 100.0\n",
        "\n",
        "    value = 0.0\n",
        "    for i, action in enumerate(actions):\n",
        "        new_row, new_col = row, col\n",
        "\n",
        "        if action == 'up':\n",
        "            new_row = max(row - 1, 0)\n",
        "        elif action == 'down':\n",
        "            new_row = min(row + 1, num_rows - 1)\n",
        "        elif action == 'left':\n",
        "            new_col = max(col - 1, 0)\n",
        "        elif action == 'right':\n",
        "            new_col = min(col + 1, num_cols - 1)\n",
        "\n",
        "        reward = calculate_state_value(new_row, new_col)\n",
        "        value += action_prob[i] * (reward + gamma * values[new_row][new_col])\n",
        "\n",
        "\n",
        "    return value\n",
        "\n",
        "# Perform value iteration\n",
        "num_iterations = 100\n",
        "for iteration in range(num_iterations):\n",
        "    new_values = np.copy(values)\n",
        "    for row in range(num_rows):\n",
        "        for col in range(num_cols):\n",
        "            if grid[row][col] not in ['S', 'X']:\n",
        "                new_values[row][col] = calculate_state_value(row, col)\n",
        "    values = new_values\n",
        "\n",
        "# Print the final value function\n",
        "print(\"Final Value Function:\")\n",
        "print(values)"
      ]
    }
  ],
  "metadata": {
    "kernelspec": {
      "display_name": "Python 3.10.8 64-bit (microsoft store)",
      "language": "python",
      "name": "python3"
    },
    "language_info": {
      "codemirror_mode": {
        "name": "ipython",
        "version": 3
      },
      "file_extension": ".py",
      "mimetype": "text/x-python",
      "name": "python",
      "nbconvert_exporter": "python",
      "pygments_lexer": "ipython3",
      "version": "3.10.8"
    },
    "vscode": {
      "interpreter": {
        "hash": "ca307a8c71e113d3c8f3624d0e5fe523c08f271c3f406f7a28f67f86d745b585"
      }
    },
    "colab": {
      "provenance": [],
      "include_colab_link": true
    }
  },
  "nbformat": 4,
  "nbformat_minor": 5
}